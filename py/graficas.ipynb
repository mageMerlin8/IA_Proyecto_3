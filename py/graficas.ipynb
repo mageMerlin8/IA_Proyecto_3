{
 "cells": [
  {
   "cell_type": "code",
   "execution_count": 2,
   "metadata": {},
   "outputs": [],
   "source": [
    "%run parser.ipynb\n",
    "import matplotlib.pyplot as plt\n",
    "import numpy as np"
   ]
  },
  {
   "cell_type": "code",
   "execution_count": 3,
   "metadata": {},
   "outputs": [],
   "source": [
    "def print_overview(a):\n",
    "    print('Dias: ' + str(a.shape[0]))\n",
    "    print('Muertos: '+str(a.muertos.max()))\n",
    "    a.plot(x='dia',\n",
    "           y=['habitantes','infectados','numMoyotesInfectados','numMoyotes'],\n",
    "           legend=True,\n",
    "           subplots=True)\n",
    "    a.plot(x='dia',y=['hospitalizados','panico'],legend=True,\n",
    "           subplots=True)\n",
    "    plot_moyotes_hist(a,'moyotes_infectados_urbe','Total Moyotes Infectados (Vivos y Muertos)')\n",
    "    plot_infectados_line(a,'moyotes_infectados_urbe','numMoyotesInfectados','Moyotes Infectados')"
   ]
  },
  {
   "cell_type": "code",
   "execution_count": 4,
   "metadata": {},
   "outputs": [],
   "source": [
    "def plot_moyotes_hist(a,baseName,titulo='',size=(6,2)):\n",
    "    data = np.empty(4)\n",
    "    labels = ['Sepa 1','Sepa 2','Sepa 3','Sepa 4']\n",
    "    for i in range(4):\n",
    "        nomCol = baseName+'_sepa_'+str(1+i)\n",
    "        data[i]=a.iloc[:][nomCol].max()\n",
    "    plt.figure(figsize=size)\n",
    "    plt.hist(labels,weights=data,color='orange')\n",
    "    plt.suptitle(titulo)\n",
    "    plt.show()"
   ]
  },
  {
   "cell_type": "code",
   "execution_count": 7,
   "metadata": {},
   "outputs": [],
   "source": [
    "def plot_infectados_line(a,baseName,nomTot='',titulo=''):\n",
    "    fig,ax = plt.subplots()\n",
    "    fig.set_figheight(2)\n",
    "    fig.set_figwidth(6)\n",
    "    legend = ['Sepa 1','Sepa 2','Sepa 3','Sepa 4']\n",
    "    cols = [str(i)for i in range(4)]\n",
    "    for i in range(4):\n",
    "        nomCol = baseName+'_sepa_'+str(1+i)\n",
    "        cols[i]=nomCol\n",
    "    if(nomTot!=''):\n",
    "        cols.append(nomTot)\n",
    "        legend.append('Total')\n",
    "    if(titulo!=''):\n",
    "        fig.suptitle(titulo)\n",
    "    a.plot(x='dia',y=cols,legend=True, ax=ax)\n",
    "    ax.legend(legend)"
   ]
  },
  {
   "cell_type": "code",
   "execution_count": 10,
   "metadata": {},
   "outputs": [],
   "source": [
    "def plot_area(a,numArea,dia):\n",
    "    a = a.loc[:dia+1]\n",
    "    baseName = 'Area_'+str(numArea)+'_'\n",
    "    tipo = str(a.loc[dia][baseName+'tipo'])\n",
    "    print('Area #' + str(numArea)) \n",
    "    print('Es principalmente '+ tipo)\n",
    "    print('Dia: '+str(dia))\n",
    "    \n",
    "    labels_hist_poblacion = ['Viven','Trabajan','Recrean']\n",
    "    res = a.loc[dia][baseName+'poblacion']\n",
    "    trab = a.loc[dia][baseName+'trabajadores']\n",
    "    rec = a.loc[dia][baseName+'recreadores']\n",
    "    plt.figure(figsize=(4,2))\n",
    "    plt.hist(labels_hist_poblacion,weights=[res,trab,rec])\n",
    "    plt.suptitle('Poblacion')\n",
    "    plt.show()\n",
    "    \n",
    "    moyotes_tot_basename = baseName + 'moyotes_infectados_area'\n",
    "    plot_moyotes_hist(a,moyotes_tot_basename,'Poblacion Moyotes',(4,2))\n",
    "    \n",
    "    personas_inf_basename = baseName + 'personas_infectadas_por_sepa'\n",
    "    plot_infectados_line(a,personas_inf_basename,baseName+'personas_infectadas','Personas Infectadas')\n",
    "        \n",
    "    muertes_basename = baseName + 'muertes_por_sepa'\n",
    "    plot_infectados_line(a,muertes_basename,baseName+'muertes','Muertos')\n",
    "    "
   ]
  },
  {
   "cell_type": "code",
   "execution_count": null,
   "metadata": {},
   "outputs": [],
   "source": []
  }
 ],
 "metadata": {
  "kernelspec": {
   "display_name": "Python 3",
   "language": "python",
   "name": "python3"
  },
  "language_info": {
   "codemirror_mode": {
    "name": "ipython",
    "version": 3
   },
   "file_extension": ".py",
   "mimetype": "text/x-python",
   "name": "python",
   "nbconvert_exporter": "python",
   "pygments_lexer": "ipython3",
   "version": "3.6.7"
  }
 },
 "nbformat": 4,
 "nbformat_minor": 2
}
