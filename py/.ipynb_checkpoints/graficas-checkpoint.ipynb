{
 "cells": [
  {
   "cell_type": "code",
   "execution_count": 3,
   "metadata": {},
   "outputs": [],
   "source": [
    "%run parser.ipynb"
   ]
  },
  {
   "cell_type": "code",
   "execution_count": null,
   "metadata": {},
   "outputs": [],
   "source": [
    "def print_overview(a):\n",
    "    print('Dias: ' + str(a.shape[0]))\n",
    "    print(a.muertos.max())\n",
    "    a.plot(x='dia',\n",
    "           y=['habitantes','infectados','numMoyotesInfectados','numMoyotes'],\n",
    "           legend=True,\n",
    "           subplots=True)\n",
    "    # a.plot(x='dia',y='muertos')\n",
    "    # a.plot(x='dia',y=)\n",
    "    a.plot(x='dia',y=['hospitalizados','panico'],legend=True,\n",
    "           subplots=True)\n",
    "    "
   ]
  }
 ],
 "metadata": {
  "kernelspec": {
   "display_name": "Python 3",
   "language": "python",
   "name": "python3"
  },
  "language_info": {
   "codemirror_mode": {
    "name": "ipython",
    "version": 3
   },
   "file_extension": ".py",
   "mimetype": "text/x-python",
   "name": "python",
   "nbconvert_exporter": "python",
   "pygments_lexer": "ipython3",
   "version": "3.6.7"
  }
 },
 "nbformat": 4,
 "nbformat_minor": 2
}
