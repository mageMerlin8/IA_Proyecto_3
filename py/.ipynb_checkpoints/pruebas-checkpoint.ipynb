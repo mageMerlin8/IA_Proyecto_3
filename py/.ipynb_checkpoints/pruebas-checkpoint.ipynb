{
 "cells": [
  {
   "cell_type": "code",
   "execution_count": 1,
   "metadata": {},
   "outputs": [],
   "source": [
    "import pandas as pd\n",
    "import re"
   ]
  },
  {
   "cell_type": "code",
   "execution_count": 2,
   "metadata": {},
   "outputs": [],
   "source": [
    "def _parse_line(line,rx_dict):\n",
    "    \"\"\"\n",
    "    Do a regex search against all defined regexes and\n",
    "    return the key and match result of the first matching regex\n",
    "\n",
    "    \"\"\"\n",
    "\n",
    "    for key, rx in rx_dict.items():\n",
    "        match = rx.search(line)\n",
    "        if match:\n",
    "            return key, match\n",
    "    # if there are no matches\n",
    "    return None, None"
   ]
  },
  {
   "cell_type": "code",
   "execution_count": 3,
   "metadata": {},
   "outputs": [],
   "source": [
    "re_dia = r'Dia #(?P<dia>\\d+)\\n'\n",
    "re_panico = r'Panico: (?P<panico>.+)\\n'\n",
    "re_hab = r'Numero de habitantes: (?P<habitantes>\\d+)\\n'\n",
    "re_muertos = r'Numero de defunciones: (?P<muertos>\\d+)\\n'\n",
    "re_personas_infectadas = r'Numero de personas infectadas: (?P<infectados>\\d+)\\n'\n",
    "re_sepa_mayor = r'Sepa de mayor contagio: (?P<sepaMayor>\\d+)\\n'\n",
    "re_tot_moyotes = r'Poblacion de mosquitos: (?P<numMoyotes>\\d+)\\n'\n",
    "re_moyotes_inf = r'Mosquitos infectados: (?P<numMoyotesInfectados>\\d+)\\n'\n",
    "\n",
    "re_triger_urbe = r'METRICAS DE LA URBE:'\n",
    "re_triger_area = r'INFORMACION DEL AREA (?P<numArea>\\d+)\\n'\n",
    "rx_dia_dict = {\n",
    "    'dia':re.compile(re_dia),\n",
    "    'panico':re.compile(re_panico),\n",
    "    'habitantes': re.compile(re_hab),\n",
    "    'muertos': re.compile(re_muertos),\n",
    "    'infectados': re.compile(re_personas_infectadas),\n",
    "    'sepaMayor': re.compile(re_sepa_mayor),\n",
    "    'numMoyotes': re.compile(re_tot_moyotes),\n",
    "    'numMoyotesInfectados': re.compile(re_moyotes_inf),\n",
    "    'triger_urbe':re.compile(re_triger_urbe),\n",
    "    'triger_area':re.compile(re_triger_area)\n",
    "    \n",
    "}\n",
    "def parse_file(filepath):\n",
    "    data = []\n",
    "    area = {}\n",
    "    with open(filepath,'r') as file_object:\n",
    "        line = file_object.readline()\n",
    "        while line:\n",
    "            key, match = _parse_line(line,rx_dia_dict)\n",
    "            \n",
    "            if(key or match):\n",
    "                if(key == 'triger_area'):\n",
    "                    nomAtt = 'Area_'+ str(match.group('numArea'))\n",
    "                    area[nomAtt] = parse_area(file_object)\n",
    "                elif(key == 'triger_urbe'): \n",
    "                    area.update(parse_urbe(file_object))\n",
    "                else:\n",
    "                    if(key == 'panico'):\n",
    "                        area.update({key:match.group(str(key))})\n",
    "                    else:\n",
    "                        area.update({key:int(match.group(str(key)))})\n",
    "            line = file_object.readline()\n",
    "    return area"
   ]
  },
  {
   "cell_type": "code",
   "execution_count": 4,
   "metadata": {},
   "outputs": [],
   "source": [
    "re_moyotes_urbe = r'Total de mosquitos: (?P<moyotes_urbe>\\d+)\\n'\n",
    "re_moyotes_sanos_urbe = r'   Sanos: (?P<moyotes_sanos_urbe>\\d+)\\n'\n",
    "\n",
    "re_personas_urbe = r'Total de Personas: (?P<personas_urbe>\\d+)\\n'\n",
    "re_personas_sanos_urbe = r'   Sanas: (?P<personas_sanos_urbe>\\d+)\\n'\n",
    "\n",
    "re_urbe_sailr = r'Metricas Areas:'\n",
    "\n",
    "rx_urbe_dict = {\n",
    "    'moyotes_urbe':re.compile(re_moyotes_urbe),\n",
    "    'moyotes_sanos_urbe':re.compile(re_moyotes_sanos_urbe),\n",
    "    'personas_urbe':re.compile(re_personas_urbe),\n",
    "    'personas_sanos_urbe':re.compile(re_personas_sanos_urbe),\n",
    "    'triger_salir':re.compile(re_urbe_sailr)\n",
    "}\n",
    "def parse_urbe(file_object):\n",
    "    line = file_object.readline()\n",
    "    metricas = {}\n",
    "    key = ''\n",
    "    while key != 'triger_salir':\n",
    "        key,match = _parse_line(line,rx_urbe_dict)\n",
    "        if(key == 'moyotes_sanos_urbe'):\n",
    "            metricas.update({key:int(match.group(str(key)))})\n",
    "            metricas['moyotes_infectados'] = parse_serotipos(file_object)\n",
    "        elif(key == 'personas_sanos_urbe'):\n",
    "            metricas.update({key:match.group(str(key))})\n",
    "            metricas['personas_infectadas'] = parse_serotipos(file_object)\n",
    "        elif(key == 'triger_salir'):\n",
    "            break\n",
    "        elif(key):\n",
    "            metricas.update({key:int(match.group(str(key)))})\n",
    "        line = file_object.readline()\n",
    "    return metricas"
   ]
  },
  {
   "cell_type": "code",
   "execution_count": 5,
   "metadata": {},
   "outputs": [],
   "source": [
    "re_se_1 = r'(   Con serotipo 1: | Serotipo 1: )(?P<sepa_1>\\d+)\\n'\n",
    "re_se_2 = r'(   Con serotipo 2: | Serotipo 2: )(?P<sepa_2>\\d+)\\n'\n",
    "re_se_3 = r'(   Con serotipo 3: | Serotipo 3: )(?P<sepa_3>\\d+)\\n'\n",
    "re_se_4 = r'(   Con serotipo 4: | Serotipo 4: )(?P<sepa_4>\\d+)\\n'\n",
    "rx_sepas_dict = {    \n",
    "    'sepa_1':re.compile(re_se_1),\n",
    "    'sepa_2':re.compile(re_se_2),\n",
    "    'sepa_3':re.compile(re_se_3),\n",
    "    'sepa_4':re.compile(re_se_4),\n",
    "}\n",
    "def parse_serotipos(file_object):\n",
    "    line = file_object.readline()\n",
    "    sepas = {}\n",
    "    for i in range(4):\n",
    "        key, match = _parse_line(line,rx_sepas_dict)\n",
    "        sepas.update({key:int(match.group(str(key)))})\n",
    "        line = file_object.readline()\n",
    "    return sepas\n",
    "        "
   ]
  },
  {
   "cell_type": "code",
   "execution_count": 6,
   "metadata": {},
   "outputs": [],
   "source": [
    "\n",
    "re_area_folio = r'INFORMACION DEL AREA (?P<folio>\\d+)\\n'\n",
    "re_area_tipo = r'Es principalmente (?P<tipo>.+)\\n'\n",
    "re_area_pob = r'Residentes del area: (?P<poblacion>\\d+)\\n'\n",
    "re_area_trab = r'Trabajan en el area: (?P<trabajadores>\\d+)\\n'\n",
    "re_area_recs = r'Se recrean en el area: (?P<recreadores>\\d+)\\n'\n",
    "re_area_personas_infectadas_tot = r'Infectados totales: (?P<personas_infectadas>\\d+)\\n'\n",
    "re_area_personas_infectadas_vivas = r'Infectados vivos totales: (?P<personas_infectadas_vivas>\\d+)\\n'\n",
    "re_area_moyotes = r'Totales: (?P<moyotes>\\d+)\\n'\n",
    "re_area_moyotes_sanos = r'   Sanos: (?P<moyotes_sanos>\\d+)\\n'\n",
    "re_area_muertes = r'Fallecidos totales: (?P<muertes>\\d+)\\n'\n",
    "re_area_salir = r'fin de la info del area'\n",
    "rx_area_dict = {\n",
    "    'folio':re.compile(re_area_folio),\n",
    "    'tipo':re.compile(re_area_tipo),\n",
    "    'poblacion':re.compile(re_area_pob),\n",
    "    'trabajadores':re.compile(re_area_trab),\n",
    "    'recreadores':re.compile(re_area_recs),\n",
    "    'personas_infectadas':re.compile(re_area_personas_infectadas_tot),\n",
    "    'personas_infectadas_vivas':re.compile(re_area_personas_infectadas_vivas),\n",
    "    'moyotes':re.compile(re_area_moyotes),\n",
    "    'moyotes_sanos':re.compile(re_area_moyotes_sanos),\n",
    "    'muertes':re.compile(re_area_muertes),\n",
    "    'triger_salir':re.compile(re_area_salir)\n",
    "}\n",
    "def parse_area(file_object):\n",
    "    line = file_object.readline()\n",
    "    info_area = {}\n",
    "    while(True):\n",
    "        key,match = _parse_line(line,rx_area_dict)\n",
    "        if(key):\n",
    "            if(key == 'triger_salir'): \n",
    "                break\n",
    "            if(key == 'tipo'):\n",
    "                info_area.update({key:match.group(str(key))})\n",
    "            else:\n",
    "                info_area.update({key:int(match.group(str(key)))})\n",
    "            if(key == 'moyotes'):\n",
    "                line = file_object.readline()\n",
    "                key,match = _parse_line(line, rx_area_dict)\n",
    "                info_area['moyotes_infectados_por_sepa'] = parse_serotipos(file_object)\n",
    "            elif(key not in ['tipo','poblacion','trabajadores','recreadores']):\n",
    "                nomAtt = str(key) + '_por_sepa'\n",
    "                info_area[nomAtt] = parse_serotipos(file_object)\n",
    "            \n",
    "        line = file_object.readline()\n",
    "    return info_area"
   ]
  },
  {
   "cell_type": "code",
   "execution_count": 7,
   "metadata": {},
   "outputs": [
    {
     "data": {
      "text/plain": [
       "{'dia': 0,\n",
       " 'panico': 'false',\n",
       " 'habitantes': 300,\n",
       " 'muertos': 0,\n",
       " 'infectados': 0,\n",
       " 'sepaMayor': 1,\n",
       " 'numMoyotes': 1000,\n",
       " 'numMoyotesInfectados': 496,\n",
       " 'moyotes_urbe': 825,\n",
       " 'moyotes_sanos_urbe': 504,\n",
       " 'moyotes_infectados': {'sepa_1': 160,\n",
       "  'sepa_2': 161,\n",
       "  'sepa_3': 0,\n",
       "  'sepa_4': 0},\n",
       " 'personas_urbe': 300,\n",
       " 'personas_sanos_urbe': '0',\n",
       " 'personas_infectadas': {'sepa_1': 0, 'sepa_2': 0, 'sepa_3': 0, 'sepa_4': 0},\n",
       " 'Area_1': {'tipo': 'RESIDENCIAL',\n",
       "  'poblacion': 300,\n",
       "  'trabajadores': 0,\n",
       "  'recreadores': 0,\n",
       "  'personas_infectadas': 0,\n",
       "  'personas_infectadas_por_sepa': {'sepa_1': 0,\n",
       "   'sepa_2': 0,\n",
       "   'sepa_3': 0,\n",
       "   'sepa_4': 0},\n",
       "  'personas_infectadas_vivas': 0,\n",
       "  'personas_infectadas_vivas_por_sepa': {'sepa_1': 0,\n",
       "   'sepa_2': 0,\n",
       "   'sepa_3': 0,\n",
       "   'sepa_4': 0},\n",
       "  'moyotes': 290,\n",
       "  'moyotes_infectados_por_sepa': {'sepa_1': 55,\n",
       "   'sepa_2': 55,\n",
       "   'sepa_3': 0,\n",
       "   'sepa_4': 0},\n",
       "  'muertes': 0,\n",
       "  'muertes_por_sepa': {'sepa_1': 0, 'sepa_2': 0, 'sepa_3': 0, 'sepa_4': 0}},\n",
       " 'Area_2': {'tipo': 'LABORAL',\n",
       "  'poblacion': 0,\n",
       "  'trabajadores': 300,\n",
       "  'recreadores': 0,\n",
       "  'personas_infectadas': 0,\n",
       "  'personas_infectadas_por_sepa': {'sepa_1': 0,\n",
       "   'sepa_2': 0,\n",
       "   'sepa_3': 0,\n",
       "   'sepa_4': 0},\n",
       "  'personas_infectadas_vivas': 0,\n",
       "  'personas_infectadas_vivas_por_sepa': {'sepa_1': 0,\n",
       "   'sepa_2': 0,\n",
       "   'sepa_3': 0,\n",
       "   'sepa_4': 0},\n",
       "  'moyotes': 266,\n",
       "  'moyotes_infectados_por_sepa': {'sepa_1': 55,\n",
       "   'sepa_2': 52,\n",
       "   'sepa_3': 0,\n",
       "   'sepa_4': 0},\n",
       "  'muertes': 0,\n",
       "  'muertes_por_sepa': {'sepa_1': 0, 'sepa_2': 0, 'sepa_3': 0, 'sepa_4': 0}},\n",
       " 'Area_3': {'tipo': 'RECREATIVA',\n",
       "  'poblacion': 0,\n",
       "  'trabajadores': 0,\n",
       "  'recreadores': 300,\n",
       "  'personas_infectadas': 0,\n",
       "  'personas_infectadas_por_sepa': {'sepa_1': 0,\n",
       "   'sepa_2': 0,\n",
       "   'sepa_3': 0,\n",
       "   'sepa_4': 0},\n",
       "  'personas_infectadas_vivas': 0,\n",
       "  'personas_infectadas_vivas_por_sepa': {'sepa_1': 0,\n",
       "   'sepa_2': 0,\n",
       "   'sepa_3': 0,\n",
       "   'sepa_4': 0},\n",
       "  'moyotes': 269,\n",
       "  'moyotes_infectados_por_sepa': {'sepa_1': 50,\n",
       "   'sepa_2': 54,\n",
       "   'sepa_3': 0,\n",
       "   'sepa_4': 0},\n",
       "  'muertes': 0,\n",
       "  'muertes_por_sepa': {'sepa_1': 0, 'sepa_2': 0, 'sepa_3': 0, 'sepa_4': 0}}}"
      ]
     },
     "execution_count": 7,
     "metadata": {},
     "output_type": "execute_result"
    }
   ],
   "source": [
    "a = parse_file('../sim/0_0')\n",
    "a"
   ]
  },
  {
   "cell_type": "code",
   "execution_count": 8,
   "metadata": {},
   "outputs": [],
   "source": [
    "import os\n",
    "def read_all_data(folio_sim):\n",
    "    path = '../sim'\n",
    "    archivos = []\n",
    "    for r,d,files in os.walk(path):\n",
    "        for file in files:\n",
    "            start = str(folio_sim) + '_'\n",
    "            if start in file:\n",
    "                archivos.append(file)\n",
    "    data = []\n",
    "    \n",
    "    for archivo in archivos:\n",
    "        dict_info = parse_file('../sim/'+str(archivo))\n",
    "        #flatten all areas\n",
    "        for i in range(3):\n",
    "            pass\n",
    "        #flatten metricas\n",
    "        \n",
    "        data.append(dict_info)\n",
    "    data = pd.DataFrame(data).sort_values('dia').replace('true',1).replace('false',0)\n",
    "    return data "
   ]
  },
  {
   "cell_type": "code",
   "execution_count": 10,
   "metadata": {},
   "outputs": [
    {
     "name": "stdout",
     "output_type": "stream",
     "text": [
      "(150, 17)\n"
     ]
    },
    {
     "data": {
      "text/plain": [
       "<matplotlib.axes._subplots.AxesSubplot at 0x7fcf9d10d0f0>"
      ]
     },
     "execution_count": 10,
     "metadata": {},
     "output_type": "execute_result"
    },
    {
     "data": {
      "image/png": "[encoded data removed]",
      "text/plain": [
       "<Figure size 432x288 with 4 Axes>"
      ]
     },
     "metadata": {
      "needs_background": "light"
     },
     "output_type": "display_data"
    },
    {
     "data": {
      "image/png": "[encoded data removed]",
      "text/plain": [
       "<Figure size 432x288 with 1 Axes>"
      ]
     },
     "metadata": {
      "needs_background": "light"
     },
     "output_type": "display_data"
    }
   ],
   "source": [
    "a = read_all_data(0)\n",
    "print(a.shape)\n",
    "a.plot(x='dia',y=['habitantes','infectados','numMoyotesInfectados','numMoyotes'],legend=True,subplots=True)\n",
    "\n",
    "a.plot.area(x='dia',y=['panico'],legend=True)"
   ]
  },
  {
   "cell_type": "code",
   "execution_count": null,
   "metadata": {},
   "outputs": [],
   "source": []
  }
 ],
 "metadata": {
  "kernelspec": {
   "display_name": "Python 3",
   "language": "python",
   "name": "python3"
  },
  "language_info": {
   "codemirror_mode": {
    "name": "ipython",
    "version": 3
   },
   "file_extension": ".py",
   "mimetype": "text/x-python",
   "name": "python",
   "nbconvert_exporter": "python",
   "pygments_lexer": "ipython3",
   "version": "3.6.7"
  }
 },
 "nbformat": 4,
 "nbformat_minor": 2
}
